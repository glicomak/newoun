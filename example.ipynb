{
 "cells": [
  {
   "cell_type": "markdown",
   "metadata": {},
   "source": [
    "# Example usage of `newoun`"
   ]
  },
  {
   "cell_type": "markdown",
   "metadata": {},
   "source": [
    "## Importing classes\n",
    "\n",
    "1. `Trainer` - Facilitates the training of custom engines.\n",
    "2. `Engine` - The core component in generation; can be saved as a file and loaded.\n",
    "3. `Generator` - An interface that uses an inner engine to generate new nouns."
   ]
  },
  {
   "cell_type": "code",
   "execution_count": 1,
   "metadata": {},
   "outputs": [],
   "source": [
    "from newoun import Trainer, Engine, Generator"
   ]
  },
  {
   "cell_type": "markdown",
   "metadata": {},
   "source": [
    "## Training a custom engine\n",
    "\n",
    "The text file `datasets/uk-places.txt` contains a list of 1000+ names of real towns in the United Kingdom.  \n",
    "For this demo, we will be using it as training data for our engine."
   ]
  },
  {
   "cell_type": "code",
   "execution_count": 2,
   "metadata": {},
   "outputs": [
    {
     "name": "stderr",
     "output_type": "stream",
     "text": [
      "100%|██████████| 40/40 [00:10<00:00,  3.87it/s]\n"
     ]
    }
   ],
   "source": [
    "trainer = Trainer(file=open(\"datasets/uk-places.txt\"), degree=5, decay_rate=0.9)\n",
    "trainer.train(batch_size=32, num_epochs=40, lr=0.2)\n",
    "engine = trainer.get_engine()"
   ]
  },
  {
   "cell_type": "markdown",
   "metadata": {},
   "source": [
    "## Saving an engine"
   ]
  },
  {
   "cell_type": "code",
   "execution_count": 3,
   "metadata": {},
   "outputs": [],
   "source": [
    "engine.save(\"engines/uk-deg-5-engine.pth\")"
   ]
  },
  {
   "cell_type": "markdown",
   "metadata": {},
   "source": [
    "## Loading an engine"
   ]
  },
  {
   "cell_type": "code",
   "execution_count": 4,
   "metadata": {},
   "outputs": [],
   "source": [
    "engine = Engine()\n",
    "engine.load(\"engines/uk-deg-5-engine.pth\")"
   ]
  },
  {
   "cell_type": "markdown",
   "metadata": {},
   "source": [
    "## Generating newouns - new nouns!"
   ]
  },
  {
   "cell_type": "code",
   "execution_count": 5,
   "metadata": {},
   "outputs": [
    {
     "name": "stdout",
     "output_type": "stream",
     "text": [
      "1.\tNorkester\n",
      "2.\tEankfingbar\n",
      "3.\tPormocester\n",
      "4.\tSoubris\n",
      "5.\tErailtan\n",
      "6.\tLockirnich\n",
      "7.\tAidmburk\n",
      "8.\tAdhorchy\n",
      "9.\tCalkerker\n",
      "10.\tIriccyntercomn\n"
     ]
    }
   ],
   "source": [
    "generator = Generator(engine)\n",
    "for i in range(10):\n",
    "    new_town = generator.generate()\n",
    "    print(f\"{i + 1}.\\t{new_town}\")"
   ]
  }
 ],
 "metadata": {
  "kernelspec": {
   "display_name": "Python 3",
   "language": "python",
   "name": "python3"
  },
  "language_info": {
   "codemirror_mode": {
    "name": "ipython",
    "version": 3
   },
   "file_extension": ".py",
   "mimetype": "text/x-python",
   "name": "python",
   "nbconvert_exporter": "python",
   "pygments_lexer": "ipython3",
   "version": "3.11.2"
  }
 },
 "nbformat": 4,
 "nbformat_minor": 2
}
